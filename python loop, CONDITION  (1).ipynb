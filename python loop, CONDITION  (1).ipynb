{
 "cells": [
  {
   "cell_type": "code",
   "execution_count": 1,
   "id": "e6a85b18-577b-45d6-9e09-15bcdf9aa791",
   "metadata": {},
   "outputs": [],
   "source": [
    "d1 = {\"key\" : \"sudh\"}"
   ]
  },
  {
   "cell_type": "code",
   "execution_count": 2,
   "id": "006ce6a0-b4d3-4f01-9ec5-c9b4d913f618",
   "metadata": {},
   "outputs": [
    {
     "data": {
      "text/plain": [
       "{'key': 'sudh'}"
      ]
     },
     "execution_count": 2,
     "metadata": {},
     "output_type": "execute_result"
    }
   ],
   "source": [
    "d1"
   ]
  },
  {
   "cell_type": "code",
   "execution_count": 3,
   "id": "55ad173f-0d6b-4944-9a1e-3824bf3452b5",
   "metadata": {},
   "outputs": [],
   "source": [
    "d2 = { 234 : \"anki\" , True : \"ankit\"}"
   ]
  },
  {
   "cell_type": "code",
   "execution_count": 4,
   "id": "a57e098c-5725-4cc3-935c-de9c61cec37f",
   "metadata": {},
   "outputs": [
    {
     "data": {
      "text/plain": [
       "{234: 'anki', True: 'ankit'}"
      ]
     },
     "execution_count": 4,
     "metadata": {},
     "output_type": "execute_result"
    }
   ],
   "source": [
    "d2"
   ]
  },
  {
   "cell_type": "code",
   "execution_count": 9,
   "id": "ece72b45-01b0-431f-ae8b-f68c868fed1d",
   "metadata": {},
   "outputs": [
    {
     "data": {
      "text/plain": [
       "'ankit'"
      ]
     },
     "execution_count": 9,
     "metadata": {},
     "output_type": "execute_result"
    }
   ],
   "source": [
    "d2[1]"
   ]
  },
  {
   "cell_type": "code",
   "execution_count": 10,
   "id": "da42db0a-2e00-4e4c-8d79-8c8ca039167a",
   "metadata": {},
   "outputs": [
    {
     "data": {
      "text/plain": [
       "'anki'"
      ]
     },
     "execution_count": 10,
     "metadata": {},
     "output_type": "execute_result"
    }
   ],
   "source": [
    "d2[234]"
   ]
  },
  {
   "cell_type": "code",
   "execution_count": 11,
   "id": "f34c2d60-4034-420f-9985-16bc878ea4f6",
   "metadata": {},
   "outputs": [],
   "source": [
    "d3 = { \"name\" : \"sud\" , \"mail\" : \"ak@gmail.com\" , \"name\" : \" ankit\"}"
   ]
  },
  {
   "cell_type": "code",
   "execution_count": 13,
   "id": "8490cfe7-4c7a-49f9-94b6-b3aee0f358b6",
   "metadata": {},
   "outputs": [
    {
     "data": {
      "text/plain": [
       "' ankit'"
      ]
     },
     "execution_count": 13,
     "metadata": {},
     "output_type": "execute_result"
    }
   ],
   "source": [
    "d3[\"name\"]"
   ]
  },
  {
   "cell_type": "code",
   "execution_count": 16,
   "id": "be57a99b-61b1-4e5f-a480-543c7e4c569d",
   "metadata": {},
   "outputs": [],
   "source": [
    "d4 = { \"comapny\" : \"pw\" , \"course\": [\"data science\" , \" math\" , \"physics\"] , \"assignment\" : (2.3, \"amk\") }"
   ]
  },
  {
   "cell_type": "code",
   "execution_count": 15,
   "id": "e6a2fa2e-dec0-408c-88e3-919bb9376fa6",
   "metadata": {},
   "outputs": [
    {
     "data": {
      "text/plain": [
       "['data science', ' math', 'physics']"
      ]
     },
     "execution_count": 15,
     "metadata": {},
     "output_type": "execute_result"
    }
   ],
   "source": [
    "d4[\"course\"]"
   ]
  },
  {
   "cell_type": "code",
   "execution_count": 17,
   "id": "f2a2f7e9-cc5e-475e-99e8-2979744af34d",
   "metadata": {},
   "outputs": [
    {
     "data": {
      "text/plain": [
       "(2.3, 'amk')"
      ]
     },
     "execution_count": 17,
     "metadata": {},
     "output_type": "execute_result"
    }
   ],
   "source": [
    "d4[\"assignment\"]"
   ]
  },
  {
   "cell_type": "code",
   "execution_count": 18,
   "id": "ec8166fd-bff9-4faa-b57f-6f97bcfcc88b",
   "metadata": {},
   "outputs": [],
   "source": [
    "d4[\"vk\"] = [\"eabu\" , \"rav\"]"
   ]
  },
  {
   "cell_type": "code",
   "execution_count": 19,
   "id": "fd86ea3e-6a61-4350-b37d-2e7551099dbf",
   "metadata": {},
   "outputs": [
    {
     "data": {
      "text/plain": [
       "{'comapny': 'pw',\n",
       " 'course': ['data science', ' math', 'physics'],\n",
       " 'assignment': (2.3, 'amk'),\n",
       " 'vk': ['eabu', 'rav']}"
      ]
     },
     "execution_count": 19,
     "metadata": {},
     "output_type": "execute_result"
    }
   ],
   "source": [
    "d4"
   ]
  },
  {
   "cell_type": "code",
   "execution_count": 20,
   "id": "19539bc7-d40b-48e0-b990-36a4d182c4a3",
   "metadata": {},
   "outputs": [],
   "source": [
    "del d4[\"vk\"]"
   ]
  },
  {
   "cell_type": "code",
   "execution_count": 21,
   "id": "9855c162-9288-449a-b9ad-743f94980463",
   "metadata": {},
   "outputs": [
    {
     "data": {
      "text/plain": [
       "{'comapny': 'pw',\n",
       " 'course': ['data science', ' math', 'physics'],\n",
       " 'assignment': (2.3, 'amk')}"
      ]
     },
     "execution_count": 21,
     "metadata": {},
     "output_type": "execute_result"
    }
   ],
   "source": [
    "d4"
   ]
  },
  {
   "cell_type": "code",
   "execution_count": 1,
   "id": "75450d48-0883-4572-a92e-305ea4b5a0d9",
   "metadata": {},
   "outputs": [
    {
     "ename": "SyntaxError",
     "evalue": "invalid syntax (563355785.py, line 1)",
     "output_type": "error",
     "traceback": [
      "\u001b[0;36m  Cell \u001b[0;32mIn[1], line 1\u001b[0;36m\u001b[0m\n\u001b[0;31m    d4.\u001b[0m\n\u001b[0m       ^\u001b[0m\n\u001b[0;31mSyntaxError\u001b[0m\u001b[0;31m:\u001b[0m invalid syntax\n"
     ]
    }
   ],
   "source": [
    "d4."
   ]
  },
  {
   "cell_type": "code",
   "execution_count": 2,
   "id": "39a00429-ad7b-40e5-a565-b1f7d2f1cf26",
   "metadata": {},
   "outputs": [
    {
     "ename": "NameError",
     "evalue": "name 'd4' is not defined",
     "output_type": "error",
     "traceback": [
      "\u001b[0;31m---------------------------------------------------------------------------\u001b[0m",
      "\u001b[0;31mNameError\u001b[0m                                 Traceback (most recent call last)",
      "Cell \u001b[0;32mIn[2], line 1\u001b[0m\n\u001b[0;32m----> 1\u001b[0m \u001b[38;5;28mlist\u001b[39m(\u001b[43md4\u001b[49m)\n",
      "\u001b[0;31mNameError\u001b[0m: name 'd4' is not defined"
     ]
    }
   ],
   "source": [
    "list(d4)"
   ]
  },
  {
   "cell_type": "code",
   "execution_count": 4,
   "id": "83e04d9c-b996-4112-b3c8-9a8ee7022c5d",
   "metadata": {},
   "outputs": [
    {
     "data": {
      "text/plain": [
       "['d', '3']"
      ]
     },
     "execution_count": 4,
     "metadata": {},
     "output_type": "execute_result"
    }
   ],
   "source": [
    "list(\"d3\")"
   ]
  },
  {
   "cell_type": "code",
   "execution_count": 6,
   "id": "2b808702-2944-4de1-a63b-18a0c029d0ed",
   "metadata": {},
   "outputs": [
    {
     "ename": "NameError",
     "evalue": "name 'd4' is not defined",
     "output_type": "error",
     "traceback": [
      "\u001b[0;31m---------------------------------------------------------------------------\u001b[0m",
      "\u001b[0;31mNameError\u001b[0m                                 Traceback (most recent call last)",
      "Cell \u001b[0;32mIn[6], line 1\u001b[0m\n\u001b[0;32m----> 1\u001b[0m \u001b[38;5;28mlist\u001b[39m(\u001b[43md4\u001b[49m())\n",
      "\u001b[0;31mNameError\u001b[0m: name 'd4' is not defined"
     ]
    }
   ],
   "source": [
    "list(d4())"
   ]
  },
  {
   "cell_type": "code",
   "execution_count": 7,
   "id": "1b08e029-26a9-4221-b05b-d4f4efe34c0b",
   "metadata": {},
   "outputs": [
    {
     "ename": "NameError",
     "evalue": "name 'd4' is not defined",
     "output_type": "error",
     "traceback": [
      "\u001b[0;31m---------------------------------------------------------------------------\u001b[0m",
      "\u001b[0;31mNameError\u001b[0m                                 Traceback (most recent call last)",
      "Cell \u001b[0;32mIn[7], line 1\u001b[0m\n\u001b[0;32m----> 1\u001b[0m \u001b[43md4\u001b[49m\u001b[38;5;241m.\u001b[39mitem()\n",
      "\u001b[0;31mNameError\u001b[0m: name 'd4' is not defined"
     ]
    }
   ],
   "source": [
    "d4.item()"
   ]
  },
  {
   "cell_type": "code",
   "execution_count": 8,
   "id": "94e3b077-4aa5-4578-89c8-009985f9538f",
   "metadata": {},
   "outputs": [],
   "source": [
    "d4 = { \"comapny\" : \"pw\" , \"course\": [\"data science\" , \" math\" , \"physics\"] , \"assignment\" : (2.3, \"amk\") }"
   ]
  },
  {
   "cell_type": "code",
   "execution_count": 9,
   "id": "dd4a2dd8-06df-4263-98d0-6a60495cf789",
   "metadata": {},
   "outputs": [
    {
     "ename": "AttributeError",
     "evalue": "'dict' object has no attribute 'item'",
     "output_type": "error",
     "traceback": [
      "\u001b[0;31m---------------------------------------------------------------------------\u001b[0m",
      "\u001b[0;31mAttributeError\u001b[0m                            Traceback (most recent call last)",
      "Cell \u001b[0;32mIn[9], line 1\u001b[0m\n\u001b[0;32m----> 1\u001b[0m \u001b[43md4\u001b[49m\u001b[38;5;241;43m.\u001b[39;49m\u001b[43mitem\u001b[49m()\n",
      "\u001b[0;31mAttributeError\u001b[0m: 'dict' object has no attribute 'item'"
     ]
    }
   ],
   "source": [
    "d4.item()"
   ]
  },
  {
   "cell_type": "code",
   "execution_count": 10,
   "id": "3f89d77c-5580-46a5-bba9-5b99ba8eff2b",
   "metadata": {},
   "outputs": [
    {
     "data": {
      "text/plain": [
       "{'comapny': 'pw',\n",
       " 'course': ['data science', ' math', 'physics'],\n",
       " 'assignment': (2.3, 'amk')}"
      ]
     },
     "execution_count": 10,
     "metadata": {},
     "output_type": "execute_result"
    }
   ],
   "source": [
    "d4"
   ]
  },
  {
   "cell_type": "code",
   "execution_count": 11,
   "id": "a619fed5-fcdd-4a03-8ec8-27f373bf69a7",
   "metadata": {},
   "outputs": [
    {
     "ename": "TypeError",
     "evalue": "'dict' object is not callable",
     "output_type": "error",
     "traceback": [
      "\u001b[0;31m---------------------------------------------------------------------------\u001b[0m",
      "\u001b[0;31mTypeError\u001b[0m                                 Traceback (most recent call last)",
      "Cell \u001b[0;32mIn[11], line 1\u001b[0m\n\u001b[0;32m----> 1\u001b[0m \u001b[38;5;28mlist\u001b[39m(\u001b[43md4\u001b[49m\u001b[43m(\u001b[49m\u001b[43m)\u001b[49m)\n",
      "\u001b[0;31mTypeError\u001b[0m: 'dict' object is not callable"
     ]
    }
   ],
   "source": [
    "list(d4())"
   ]
  },
  {
   "cell_type": "code",
   "execution_count": 13,
   "id": "fbfe5b9c-df27-4410-96ca-bc45a44bdd02",
   "metadata": {},
   "outputs": [
    {
     "name": "stdin",
     "output_type": "stream",
     "text": [
      " enter you marks 45\n"
     ]
    },
    {
     "name": "stdout",
     "output_type": "stream",
     "text": [
      "you will be a part a2 batch\n"
     ]
    }
   ],
   "source": [
    "marks = int(input(\" enter you marks\"))\n",
    "if marks >= 80 :\n",
    "    print(\"you will be a part of inot\")\n",
    "elif marks >= 60 and marks < 80 :\n",
    "    print(\"you will be a part of a1 batch\")\n",
    "elif marks >= 40 and marks < 60 :\n",
    "    print(\"you will be a part a2 batch\")\n",
    "else :\n",
    "    print(\"you will be part of a4 batch\")\n",
    "    \n",
    "        "
   ]
  },
  {
   "cell_type": "code",
   "execution_count": 20,
   "id": "8af28bbb-fb90-4541-bfb1-4155c9e45325",
   "metadata": {},
   "outputs": [
    {
     "name": "stdin",
     "output_type": "stream",
     "text": [
      "entre price 200\n"
     ]
    },
    {
     "name": "stdout",
     "output_type": "stream",
     "text": [
      "i will purchase\n"
     ]
    }
   ],
   "source": [
    "Price = int(input(\"entre price\"))\n",
    "\n",
    "if Price > 1000 :\n",
    "    print(\"i will not purchase\")\n",
    "else :\n",
    "    print(\"i will purchase\")"
   ]
  },
  {
   "cell_type": "code",
   "execution_count": 21,
   "id": "baedabee-ef53-4ba3-8555-58721ace1963",
   "metadata": {},
   "outputs": [],
   "source": [
    "l = [1,2,3,3,5,6,7,8]"
   ]
  },
  {
   "cell_type": "code",
   "execution_count": 26,
   "id": "79fb4662-4bd3-4b8c-8147-d2977249f0bd",
   "metadata": {},
   "outputs": [
    {
     "name": "stdout",
     "output_type": "stream",
     "text": [
      "2\n",
      "3\n",
      "4\n",
      "4\n",
      "6\n",
      "7\n",
      "8\n",
      "9\n"
     ]
    },
    {
     "data": {
      "text/plain": [
       "[2, 3, 4, 4, 6, 7, 8, 9]"
      ]
     },
     "execution_count": 26,
     "metadata": {},
     "output_type": "execute_result"
    }
   ],
   "source": [
    "l2 = []\n",
    "for i in l :\n",
    "    print(i+1)\n",
    "    l2.append(i+1)\n",
    "l2"
   ]
  },
  {
   "cell_type": "code",
   "execution_count": 24,
   "id": "358ac888-d396-47ae-9a38-f474a6d4acfe",
   "metadata": {},
   "outputs": [
    {
     "data": {
      "text/plain": [
       "[1, 2, 3, 3, 5, 6, 7, 8]"
      ]
     },
     "execution_count": 24,
     "metadata": {},
     "output_type": "execute_result"
    }
   ],
   "source": [
    "l"
   ]
  },
  {
   "cell_type": "code",
   "execution_count": 27,
   "id": "43cf4fcc-dd1f-4dee-a1e0-390d6d1749af",
   "metadata": {},
   "outputs": [],
   "source": [
    "v = [\"ank\" , \"pw skilss\", \"mrp\"]"
   ]
  },
  {
   "cell_type": "code",
   "execution_count": 43,
   "id": "9a9dcfa7-0b36-445f-87c5-b645bd395077",
   "metadata": {},
   "outputs": [
    {
     "name": "stdout",
     "output_type": "stream",
     "text": [
      "ANK\n",
      "PW SKILSS\n",
      "MRP\n"
     ]
    }
   ],
   "source": [
    "for i in v :\n",
    "    print(i.upper())"
   ]
  },
  {
   "cell_type": "code",
   "execution_count": 44,
   "id": "22ffbe23-4ff7-42b8-9d95-ac00bce6cecf",
   "metadata": {},
   "outputs": [],
   "source": [
    "j = [4.6, 7,78, 78.89, \"ank\" , \"sum\" , \"ravi\"]"
   ]
  },
  {
   "cell_type": "code",
   "execution_count": 52,
   "id": "00d99f7a-2a89-487d-a179-511f1b142b51",
   "metadata": {},
   "outputs": [],
   "source": [
    "j1_num = []\n",
    "j2_str = []\n",
    "for i in j :\n",
    "    if type(i) == int or type(i) == float :\n",
    "        j1_num.append(i)\n",
    "else :\n",
    "    j2_str.append(i)\n",
    "    "
   ]
  },
  {
   "cell_type": "code",
   "execution_count": 54,
   "id": "743d83d0-2115-4971-87c2-68cf3f422224",
   "metadata": {},
   "outputs": [
    {
     "data": {
      "text/plain": [
       "[4.6, 7, 78, 78.89]"
      ]
     },
     "execution_count": 54,
     "metadata": {},
     "output_type": "execute_result"
    }
   ],
   "source": [
    "j1_num"
   ]
  },
  {
   "cell_type": "code",
   "execution_count": null,
   "id": "f90ec244-b4fa-47d5-8dd3-f2da9c3588bf",
   "metadata": {},
   "outputs": [],
   "source": []
  }
 ],
 "metadata": {
  "kernelspec": {
   "display_name": "Python 3 (ipykernel)",
   "language": "python",
   "name": "python3"
  },
  "language_info": {
   "codemirror_mode": {
    "name": "ipython",
    "version": 3
   },
   "file_extension": ".py",
   "mimetype": "text/x-python",
   "name": "python",
   "nbconvert_exporter": "python",
   "pygments_lexer": "ipython3",
   "version": "3.10.8"
  }
 },
 "nbformat": 4,
 "nbformat_minor": 5
}
